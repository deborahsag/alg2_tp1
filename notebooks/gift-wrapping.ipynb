{
 "cells": [
  {
   "cell_type": "markdown",
   "metadata": {},
   "source": [
    "Gift Wrapping implementado com listas\n",
    "\n",
    "Esta implementação é uma alternativa para a implementação com a classe Ponto. Pode ser que facilite a implementação do restante do trabalho.\n",
    "\n",
    "\n",
    "Cada ponto é um par de coordenadas [x, y], que é uma lista Python de tamanho 2. Exemplo de entrada:\n",
    "\n",
    "\n",
    "pontos = [[2, 1], [15, 9], [4, 11], [3, 6], [12, 15], [8, 10]]"
   ]
  },
  {
   "cell_type": "code",
   "execution_count": 12,
   "metadata": {},
   "outputs": [],
   "source": [
    "import numpy as np\n",
    "import matplotlib.pyplot as plt\n",
    "from scipy.spatial import ConvexHull"
   ]
  },
  {
   "cell_type": "code",
   "execution_count": 13,
   "metadata": {},
   "outputs": [],
   "source": [
    "def ancora(pontos):\n",
    "    \"\"\"Encontra o ponto de menor y em um conjunto de pontos.\n",
    "\n",
    "    Entrada:\n",
    "    pontos - lista de pontos representados por listas de tamanho 2\n",
    "    Saida:\n",
    "    i0 - indice do ponto de menor y\n",
    "    \"\"\"\n",
    "    p0 = min(pontos, key = lambda x: x[1])\n",
    "    i0 = pontos.index(p0)\n",
    "    return i0"
   ]
  },
  {
   "cell_type": "code",
   "execution_count": 14,
   "metadata": {},
   "outputs": [],
   "source": [
    "def orientacao(pi, pj , pk):\n",
    "    \"\"\"Encontra a orientacao dos segmentos de reta pi-pj-pk.\n",
    "    \n",
    "    Entrada:\n",
    "    pi, pj, pk - pontos representados por listas de tamanho 2\n",
    "    Retorna:\n",
    "    0 - se os pontos sao colineares\n",
    "    1 - se estao em orientacao horaria\n",
    "    2 - se estao em orientacao anti horaria\n",
    "    \"\"\"\n",
    "    valor = (float(pj[1] - pi[1]) * (pk[0] - pj[0])) - (float(pj[0] - pi[0]) * (pk[1] - pj[1]))\n",
    "    if valor > 0:\n",
    "        # Sentido horario\n",
    "        return 1\n",
    "    elif valor < 0:\n",
    "        # Sentido anti horario\n",
    "        return 2\n",
    "    else:\n",
    "        # Colinear\n",
    "        return 0"
   ]
  },
  {
   "cell_type": "code",
   "execution_count": 15,
   "metadata": {},
   "outputs": [],
   "source": [
    "def envoltoria_convexa(pontos):\n",
    "    \"\"\"Encontra a envoltoria convexa de um conjunto de pontos.\n",
    "    \n",
    "    Entrada:\n",
    "    pontos - lista de pontos representados por listas de tamanho 2\n",
    "    Saida:\n",
    "    H - lista dos pontos da envoltoria convexa\n",
    "    \"\"\"\n",
    "\n",
    "    S = pontos\n",
    "\n",
    "    # Adicionar o ancora aa envoltoria\n",
    "    i0 = ancora(S)\n",
    "    H = [S[i0]]\n",
    "\n",
    "    i = i0\n",
    "    while True:\n",
    "        # Procurar um ponto pk que esteja no sentido horario de todos os outros pontos\n",
    "        k = (i + 1) % len(S) # k inicial eh o indice seguinte ao do ultimo ponto adicionado aa envoltoria\n",
    "\n",
    "        # Para todos os pontos do conjunto de entrada\n",
    "        for j in range(len(S)):\n",
    "            # Se a orientacao pi-pk-pj eh no sentido horario, pj substitui pk como candidato aa envoltoria\n",
    "            if orientacao(S[i], S[k], S[j]) == 1:\n",
    "                k = j\n",
    "\n",
    "        # k final eh o indice do ponto a ser incluido na envoltoria, que eh o ponto de referencia da proxima iteracao\n",
    "        i = k\n",
    "\n",
    "        # Interrompemos o algoritmo se chegamos ao primeiro ponto\n",
    "        if i == i0: \n",
    "            break\n",
    "        \n",
    "        # Adicionamos o ponto candidato aa envoltoria\n",
    "        H.append(S[i])\n",
    "    \n",
    "    return H"
   ]
  },
  {
   "cell_type": "markdown",
   "metadata": {},
   "source": [
    "Testes:"
   ]
  },
  {
   "cell_type": "code",
   "execution_count": 16,
   "metadata": {},
   "outputs": [],
   "source": [
    "'''Entrada'''\n",
    "\n",
    "# S1 = [[2, 1], [15, 9], [4, 11], [3, 6], [12, 15], [8,10]]\n",
    "\n",
    "rng = np.random.default_rng()\n",
    "S1 = rng.random((10, 2))   # 10 random points in 2-D\n",
    "S1 = np.floor(S1*10)\n",
    "\n",
    "S = S1.tolist()"
   ]
  },
  {
   "cell_type": "code",
   "execution_count": 17,
   "metadata": {},
   "outputs": [
    {
     "data": {
      "text/plain": [
       "[[3.0, 0.0],\n",
       " [7.0, 2.0],\n",
       " [8.0, 4.0],\n",
       " [9.0, 9.0],\n",
       " [3.0, 9.0],\n",
       " [0.0, 9.0],\n",
       " [0.0, 0.0]]"
      ]
     },
     "execution_count": 17,
     "metadata": {},
     "output_type": "execute_result"
    }
   ],
   "source": [
    "h = envoltoria_convexa(S)\n",
    "h"
   ]
  },
  {
   "cell_type": "code",
   "execution_count": 18,
   "metadata": {},
   "outputs": [
    {
     "data": {
      "image/png": "[encoded data removed]",
      "text/plain": [
       "<Figure size 640x480 with 1 Axes>"
      ]
     },
     "metadata": {},
     "output_type": "display_data"
    }
   ],
   "source": [
    "S2 = np.array(S1)\n",
    "hull = ConvexHull(S2)\n",
    "\n",
    "\n",
    "plt.plot(S2[:,0], S2[:,1], 'o')\n",
    "\n",
    "for simplex in hull.simplices:\n",
    "\n",
    "    plt.plot(S2[simplex, 0], S2[simplex, 1], 'k-')"
   ]
  },
  {
   "cell_type": "code",
   "execution_count": null,
   "metadata": {},
   "outputs": [],
   "source": []
  }
 ],
 "metadata": {
  "kernelspec": {
   "display_name": "Python 3.8.10 64-bit",
   "language": "python",
   "name": "python3"
  },
  "language_info": {
   "codemirror_mode": {
    "name": "ipython",
    "version": 3
   },
   "file_extension": ".py",
   "mimetype": "text/x-python",
   "name": "python",
   "nbconvert_exporter": "python",
   "pygments_lexer": "ipython3",
   "version": "3.8.10"
  },
  "orig_nbformat": 4,
  "vscode": {
   "interpreter": {
    "hash": "916dbcbb3f70747c44a77c7bcd40155683ae19c65e1c03b4aa3499c5328201f1"
   }
  }
 },
 "nbformat": 4,
 "nbformat_minor": 2
}
