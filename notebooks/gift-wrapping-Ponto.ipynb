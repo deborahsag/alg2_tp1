{
 "cells": [
  {
   "cell_type": "markdown",
   "metadata": {},
   "source": [
    "Gift wrapping com classe Ponto\n",
    "\n",
    "Nesta implementação foi criada uma classe Ponto que guarda as coordenadas x, y."
   ]
  },
  {
   "cell_type": "code",
   "execution_count": 19,
   "metadata": {},
   "outputs": [],
   "source": [
    "import numpy as np\n",
    "import math\n",
    "import matplotlib.pyplot as plt\n",
    "from scipy.spatial import ConvexHull"
   ]
  },
  {
   "cell_type": "code",
   "execution_count": 20,
   "metadata": {},
   "outputs": [],
   "source": [
    "class Ponto:\n",
    "    def __init__(self, x, y):\n",
    "        self.x = x\n",
    "        self.y = y\n",
    "\n",
    "    def print_ponto(self):\n",
    "        print(self.x, self.y)\n",
    "\n",
    "\n",
    "def print_pontos(pontos):\n",
    "    for p in pontos:\n",
    "        p.print_ponto()\n",
    "\n",
    "def lista_pontos(S):\n",
    "    \"\"\"Transforma uma lista de pontos representados por tuplas em uma lista da classe Ponto.\n",
    "    \n",
    "    Entrada:\n",
    "    S - uma lista de pontos representados por tuplas\n",
    "    Saida:\n",
    "    pontos - uma lista de elementos da classe Ponto\n",
    "    \"\"\"\n",
    "    pontos = []\n",
    "    for i in range(len(S)):\n",
    "        pontos.append(Ponto(S[i][0], S[i][1]))\n",
    "    return pontos"
   ]
  },
  {
   "cell_type": "code",
   "execution_count": 21,
   "metadata": {},
   "outputs": [],
   "source": [
    "def ancora(pontos):\n",
    "    \"\"\"Encontra o ponto de menor y em um conjunto de pontos.\n",
    "\n",
    "    Entrada:\n",
    "    pontos - lista de elementos da classe Ponto\n",
    "    Retorna:\n",
    "    i0 - indice do Ponto de menor y\n",
    "    \"\"\"\n",
    "    p0 = min(pontos, key = lambda ponto: ponto.y)\n",
    "    i0 = pontos.index(p0)\n",
    "    return i0"
   ]
  },
  {
   "cell_type": "code",
   "execution_count": 22,
   "metadata": {},
   "outputs": [],
   "source": [
    "def orientacao(pi, pj , pk):\n",
    "    \"\"\"Encontra a orientacao dos segmentos de reta pi-pj-pk.\n",
    "    \n",
    "    Entrada:\n",
    "    pi, pj, pk - pontos da classe Ponto\n",
    "    Retorna:\n",
    "    0 - se os pontos sao colineares\n",
    "    1 - se estao em orientacao horaria\n",
    "    2 - se estao em orientacao anti horaria\n",
    "    \"\"\"\n",
    "    valor =  (float(pj.y - pi.y) * (pk.x - pj.x)) - (float(pj.x - pi.x) * (pk.y - pj.y))\n",
    "    if valor > 0:\n",
    "        # Sentido horario\n",
    "        return 1\n",
    "    elif valor < 0:\n",
    "        # Sentido anti horario\n",
    "        return 2\n",
    "    else:\n",
    "        # Colinear\n",
    "        return 0"
   ]
  },
  {
   "cell_type": "code",
   "execution_count": 23,
   "metadata": {},
   "outputs": [],
   "source": [
    "def envoltoria_convexa(pontos):\n",
    "    \"\"\"Encontra a envoltoria convexa de um conjunto de pontos.\n",
    "    \n",
    "    Entrada:\n",
    "    pontos - lista de pontos da classe Ponto\n",
    "    Saida:\n",
    "    H - lista de pontos da classe Ponto representando a envoltoria convexa\n",
    "    \"\"\"\n",
    "\n",
    "    S = pontos\n",
    "\n",
    "    # Adicionar o ancora aa envoltoria\n",
    "    i0 = ancora(S)\n",
    "    H = [S[i0]]\n",
    "\n",
    "    i = i0\n",
    "    while True:\n",
    "        # Procurar um ponto pk que esteja no sentido horario de todos os outros pontos\n",
    "        k = (i + 1) % len(S) # k inicial eh o indice seguinte ao do ultimo ponto adicionado aa envoltoria\n",
    "\n",
    "        # Para todos os pontos do conjunto de entrada\n",
    "        for j in range(len(S)):\n",
    "            # Se a orientacao pi-pk-pj eh no sentido horario, pj substitui pk como candidato aa envoltoria\n",
    "            if orientacao(S[i], S[k], S[j]) == 1:\n",
    "                k = j\n",
    "\n",
    "        # k final eh o indice do ponto a ser incluido na envoltoria, que eh o ponto de referencia da proxima iteracao\n",
    "        i = k\n",
    "        \n",
    "        # Interrompemos o algoritmo se chegamos ao primeiro ponto\n",
    "        if i == i0: \n",
    "            break\n",
    "        \n",
    "        # Adicionamos o ponto candidato aa envoltoria\n",
    "        H.append(S[i])\n",
    "    \n",
    "    return H"
   ]
  },
  {
   "cell_type": "code",
   "execution_count": 24,
   "metadata": {},
   "outputs": [],
   "source": [
    "def menor_distancia(Ci, Cj):\n",
    "    \"\"\"Retorna os pontos de menor distancia entre dois conjuntos de pontos.\n",
    "\n",
    "    Entrada:\n",
    "    Ci, Cj - conjuntos de pontos (classe Ponto)\n",
    "    Saida:\n",
    "    min_i, min_j - pontos de menor distancia (classe Ponto)\n",
    "    \"\"\"\n",
    "    min_i = Ci[0]\n",
    "    min_j = Cj[0]\n",
    "    min_dist = math.dist([min_i.x, min_i.y], [min_j.x, min_j.y])\n",
    "    for i in range(len(Ci)):\n",
    "        pi = Ci[i]\n",
    "        for j in range(len(Cj)):\n",
    "            pj = Cj[j]\n",
    "            d = math.dist([pi.x, pi.y], [pj.x, pj.y])\n",
    "            if d < min_dist:\n",
    "                min_dist = d\n",
    "                min_i = pi\n",
    "                min_j = pj\n",
    "\n",
    "    return min_i, min_j"
   ]
  },
  {
   "cell_type": "markdown",
   "metadata": {},
   "source": [
    "Testes:"
   ]
  },
  {
   "cell_type": "code",
   "execution_count": 38,
   "metadata": {},
   "outputs": [
    {
     "name": "stdout",
     "output_type": "stream",
     "text": [
      "2.0 7.0\n",
      "1.0 7.0\n",
      "6.0 8.0\n",
      "1.0 9.0\n",
      "5.0 4.0\n",
      "2.0 7.0\n",
      "1.0 1.0\n",
      "5.0 0.0\n",
      "5.0 6.0\n",
      "1.0 6.0\n"
     ]
    }
   ],
   "source": [
    "'''Entrada'''\n",
    "\n",
    "S4 = [[2, 1], [15, 9], [4, 11], [3, 6], [12, 15], [8,10]]\n",
    "S5 = lista_pontos(S4)\n",
    "rng = np.random.default_rng()\n",
    "S1 = rng.random((10, 2))   # 10 random points in 2-D\n",
    "S1 = np.floor(S1*10)\n",
    "\n",
    "S = lista_pontos(S1)\n",
    "print_pontos(S)"
   ]
  },
  {
   "cell_type": "code",
   "execution_count": 26,
   "metadata": {},
   "outputs": [
    {
     "name": "stdout",
     "output_type": "stream",
     "text": [
      "6.0 0.0\n"
     ]
    }
   ],
   "source": [
    "a = ancora(S)\n",
    "S[a].print_ponto()"
   ]
  },
  {
   "cell_type": "code",
   "execution_count": 27,
   "metadata": {},
   "outputs": [
    {
     "data": {
      "text/plain": [
       "2"
      ]
     },
     "execution_count": 27,
     "metadata": {},
     "output_type": "execute_result"
    }
   ],
   "source": [
    "ori = orientacao(S[0], S[1], S[2])\n",
    "ori"
   ]
  },
  {
   "cell_type": "code",
   "execution_count": 28,
   "metadata": {},
   "outputs": [
    {
     "name": "stdout",
     "output_type": "stream",
     "text": [
      "6.0 0.0\n",
      "8.0 7.0\n",
      "5.0 9.0\n",
      "1.0 8.0\n",
      "0.0 2.0\n"
     ]
    }
   ],
   "source": [
    "h = envoltoria_convexa(S)\n",
    "print_pontos(h)"
   ]
  },
  {
   "cell_type": "code",
   "execution_count": 29,
   "metadata": {},
   "outputs": [
    {
     "data": {
      "image/png": "[encoded data removed]",
      "text/plain": [
       "<Figure size 640x480 with 1 Axes>"
      ]
     },
     "metadata": {},
     "output_type": "display_data"
    }
   ],
   "source": [
    "S2 = np.array(S1)\n",
    "hull = ConvexHull(S2)\n",
    "\n",
    "\n",
    "plt.plot(S2[:,0], S2[:,1], 'o')\n",
    "\n",
    "for simplex in hull.simplices:\n",
    "\n",
    "    plt.plot(S2[simplex, 0], S2[simplex, 1], 'k-')"
   ]
  },
  {
   "cell_type": "code",
   "execution_count": 39,
   "metadata": {},
   "outputs": [
    {
     "name": "stdout",
     "output_type": "stream",
     "text": [
      "2.0 7.0\n",
      "1.0 7.0\n",
      "6.0 8.0\n",
      "1.0 9.0\n",
      "5.0 4.0\n",
      "2.0 7.0\n",
      "1.0 1.0\n",
      "5.0 0.0\n",
      "5.0 6.0\n",
      "1.0 6.0\n",
      "\n",
      "2 1\n",
      "15 9\n",
      "4 11\n",
      "3 6\n",
      "12 15\n",
      "8 10\n"
     ]
    }
   ],
   "source": [
    "rng = np.random.default_rng()\n",
    "S3 = rng.random((10, 2))   # 10 random points in 2-D\n",
    "S3 = np.floor(S3*10)\n",
    "\n",
    "print_pontos(S)\n",
    "print()\n",
    "print_pontos(S5)\n"
   ]
  },
  {
   "cell_type": "code",
   "execution_count": 43,
   "metadata": {},
   "outputs": [
    {
     "data": {
      "text/plain": [
       "6.0"
      ]
     },
     "execution_count": 43,
     "metadata": {},
     "output_type": "execute_result"
    }
   ],
   "source": [
    "math.dist([S[0].x, S[0].y], [S5[0].x, S5[0].y])"
   ]
  },
  {
   "cell_type": "code",
   "execution_count": 44,
   "metadata": {},
   "outputs": [
    {
     "name": "stdout",
     "output_type": "stream",
     "text": [
      "1.0 1.0\n",
      "\n",
      "2 1\n"
     ]
    }
   ],
   "source": [
    "pi, pj = menor_distancia(S, S5)\n",
    "pi.print_ponto()\n",
    "print()\n",
    "pj.print_ponto()"
   ]
  },
  {
   "cell_type": "code",
   "execution_count": null,
   "metadata": {},
   "outputs": [],
   "source": []
  }
 ],
 "metadata": {
  "kernelspec": {
   "display_name": "Python 3.8.10 64-bit",
   "language": "python",
   "name": "python3"
  },
  "language_info": {
   "codemirror_mode": {
    "name": "ipython",
    "version": 3
   },
   "file_extension": ".py",
   "mimetype": "text/x-python",
   "name": "python",
   "nbconvert_exporter": "python",
   "pygments_lexer": "ipython3",
   "version": "3.8.10"
  },
  "orig_nbformat": 4,
  "vscode": {
   "interpreter": {
    "hash": "916dbcbb3f70747c44a77c7bcd40155683ae19c65e1c03b4aa3499c5328201f1"
   }
  }
 },
 "nbformat": 4,
 "nbformat_minor": 2
}
