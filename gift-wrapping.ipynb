{
  "cells": [
    {
      "cell_type": "markdown",
      "metadata": {
        "id": "aDxwgnokpG8h"
      },
      "source": [
        "15/10\n",
        "\n",
        "Observação: Esse algoritmo não é bom para o caso de fazer atualizações da envoltória ao adicionar um ponto.\n",
        "\n",
        "A implementação até agora não funciona porque o algoritmo volta no primeiro ponto na primeira iteração.\n",
        "\n",
        "19/10\n",
        "\n",
        "Implementei a função novamente, agora usando os índices dos pontos, e não suas coordenadas.\n",
        "\n",
        "A implementação funciona um pouco melhor porque pega mais pontos. Ainda não funciona corretamente, não pega todos os pontos da envoltória e em alguns casos pega pontos que não são da envoltória. Não consigo entender por que os pontos que devem entrar não batem com o produto vetorial, acho que a função numpy.cross() não funciona como eu acho que funciona."
      ]
    },
    {
      "cell_type": "code",
      "execution_count": 1,
      "metadata": {
        "id": "3QObDPJnpG8k"
      },
      "outputs": [],
      "source": [
        "# Implementacao da sala de aula:\n",
        "\n",
        "# encontrar o ponto de menor coordenada y\n",
        "# seja o esse o ponto i0 da envoltoria\n",
        "# i = i0\n",
        "\n",
        "# repita\n",
        "    # para cada um dos pontos j != i\n",
        "    #   computar o angulo polar na direcao anti-horaria a partir de pi (ultimo vertice a entrar na envoltoria)\n",
        "\n",
        "    # seja k o indice do ponto com menor angulo\n",
        "    # o ponto pk entra na envoltoria\n",
        "    # i = k\n",
        "# ate que i == i0"
      ]
    },
    {
      "cell_type": "code",
      "execution_count": 2,
      "metadata": {
        "id": "_4VNWOcQpG8m"
      },
      "outputs": [],
      "source": [
        "import numpy as np\n",
        "import matplotlib.pyplot as plt\n",
        "from scipy.spatial import ConvexHull"
      ]
    },
    {
      "cell_type": "code",
      "execution_count": 3,
      "metadata": {
        "id": "NSKWP_LbpG8m"
      },
      "outputs": [],
      "source": [
        "def envoltoria_convexa(pontos):\n",
        "    \"\"\"Construcao da envoltoria convexa a partir de um conjunto de pontos.\n",
        "\n",
        "    Entrada:\n",
        "    pontos - um numpy array representando o conjunto de pontos, em que cada ponto é um numpy array [x, y]\n",
        "    Saida:\n",
        "    H - um numpy array contendo os pontos da envoltoria convexa\n",
        "    \"\"\"\n",
        "    S = pontos\n",
        "\n",
        "    p0 = min(S, key = lambda x: x[1])\n",
        "    i0 = np.where(S == p0)[0][0]\n",
        "#    np.delete(S, i0) # nao faz sentido deletar porque nao teremos condicao de parada\n",
        "\n",
        "    H = [p0]\n",
        "    pi = p0\n",
        "    \n",
        "    while True:\n",
        "        prod_vetorial = np.zeros(len(S))\n",
        "        for j in range(len(S)):\n",
        "            pj = S[j]\n",
        "            if pj[0] != pi[0] or pj[1] != pi[1]:\n",
        "                prod_vetorial[j] = np.cross(pi, pj)\n",
        "\n",
        "        m = np.ma.MaskedArray(prod_vetorial, prod_vetorial <= 0)\n",
        "        k = np.argmin(m)\n",
        "        pi = S[k]\n",
        " #       np.delete(S, k)\n",
        "\n",
        "        print(prod_vetorial)\n",
        "        \n",
        "        if pi[0] == p0[0] and pi[1] == p0[1]:\n",
        "            break\n",
        "\n",
        "        H.append(pi)       \n",
        "\n",
        "    return H"
      ]
    },
    {
      "cell_type": "code",
      "source": [
        "def envoltoria_convexa_indices(pontos):\n",
        "    \"\"\"Construcao da envoltoria convexa a partir de um conjunto de pontos.\n",
        "\n",
        "    Entrada:\n",
        "    pontos - um numpy array representando o conjunto de pontos, em que cada ponto é um numpy array [x, y]\n",
        "    Saida:\n",
        "    H - um numpy array contendo os pontos da envoltoria convexa\n",
        "    \"\"\"\n",
        "    S = pontos\n",
        "\n",
        "    p0 = min(S, key = lambda x: x[1])\n",
        "    i0 = np.where(S == p0)[0][0]\n",
        "\n",
        "    H = [p0]\n",
        "    i = i0\n",
        "    \n",
        "    while True:\n",
        "        prod_vetorial = np.zeros(len(S))\n",
        "        for j in range(len(S)):\n",
        "            if i != j:\n",
        "                prod_vetorial[j] = np.cross(S[i], S[j])\n",
        "\n",
        "        m = np.ma.MaskedArray(prod_vetorial, prod_vetorial <= 0)\n",
        "        i = np.argmin(m)\n",
        "        if i == i0:\n",
        "            break\n",
        "        \n",
        "        print(prod_vetorial)\n",
        "        print(m)\n",
        "\n",
        "        H.append(S[i])       \n",
        "        \n",
        "    return H"
      ],
      "metadata": {
        "id": "XCC-0i-Iz4G8"
      },
      "execution_count": 4,
      "outputs": []
    },
    {
      "cell_type": "code",
      "execution_count": 5,
      "metadata": {
        "id": "qjRBAAZ5pG8o"
      },
      "outputs": [],
      "source": [
        "# rng = np.random.default_rng()\n",
        "# points = rng.random((10, 2))   # 10 random points in 2-D\n",
        "# points = np.floor(points*10)\n",
        "# points"
      ]
    },
    {
      "cell_type": "code",
      "execution_count": 6,
      "metadata": {
        "id": "g3HC5eT2pG8o",
        "colab": {
          "base_uri": "https://localhost:8080/"
        },
        "outputId": "b8502f09-641b-4a18-b9cd-8a1d968ee27b"
      },
      "outputs": [
        {
          "output_type": "stream",
          "name": "stdout",
          "text": [
            "[ 0.  3. 18.  9. 18. 12.]\n",
            "[-- 3.0 18.0 9.0 18.0 12.0]\n",
            "[ -3.   0. 129.  63. 117.  78.]\n",
            "[-- -- 129.0 63.0 117.0 78.0]\n",
            "[ -9. -63.   9.   0. -27. -18.]\n",
            "[-- -- 9.0 -- -- --]\n"
          ]
        },
        {
          "output_type": "execute_result",
          "data": {
            "text/plain": [
              "[array([2, 1]), array([15,  9]), array([3, 6]), array([ 4, 11])]"
            ]
          },
          "metadata": {},
          "execution_count": 6
        }
      ],
      "source": [
        "points2 = np.array(([2, 1], [15, 9], [4, 11], [3, 6], [12, 15], [8,10]))\n",
        "hull = envoltoria_convexa_indices(points2)\n",
        "hull"
      ]
    },
    {
      "cell_type": "markdown",
      "source": [
        "Obs 19/10: o vetor resultante da função deveria retornar os pontos na ordem anti-horária. Por alguma razão, a partir do ponto (15, 9) ele pega o último ponto que deveria entrar na envoltória. Não entendo como o produto vetorial desse seria o menor."
      ],
      "metadata": {
        "id": "y4Ve09tS5n5d"
      }
    },
    {
      "cell_type": "code",
      "execution_count": 7,
      "metadata": {
        "id": "psvutbfdpG8q",
        "colab": {
          "base_uri": "https://localhost:8080/",
          "height": 336
        },
        "outputId": "36d0ed6e-1313-49fc-9f0a-5a5d4192e2bf"
      },
      "outputs": [
        {
          "output_type": "stream",
          "name": "stdout",
          "text": [
            "[[1 0]\n",
            " [4 1]\n",
            " [2 0]\n",
            " [2 4]]\n"
          ]
        },
        {
          "output_type": "display_data",
          "data": {
            "text/plain": [
              "<Figure size 432x288 with 1 Axes>"
            ],
            "image/png": "[encoded data removed]"
          },
          "metadata": {
            "needs_background": "light"
          }
        }
      ],
      "source": [
        "hull = ConvexHull(points2)\n",
        "\n",
        "\n",
        "plt.plot(points2[:,0], points2[:,1], 'o')\n",
        "\n",
        "for simplex in hull.simplices:\n",
        "\n",
        "    plt.plot(points2[simplex, 0], points2[simplex, 1], 'k-')\n",
        "\n",
        "print(hull.simplices)"
      ]
    },
    {
      "cell_type": "code",
      "source": [],
      "metadata": {
        "id": "0iH5ApgXwDEa"
      },
      "execution_count": 7,
      "outputs": []
    }
  ],
  "metadata": {
    "kernelspec": {
      "display_name": "Python 3.8.10 64-bit",
      "language": "python",
      "name": "python3"
    },
    "language_info": {
      "codemirror_mode": {
        "name": "ipython",
        "version": 3
      },
      "file_extension": ".py",
      "mimetype": "text/x-python",
      "name": "python",
      "nbconvert_exporter": "python",
      "pygments_lexer": "ipython3",
      "version": "3.8.10"
    },
    "orig_nbformat": 4,
    "vscode": {
      "interpreter": {
        "hash": "916dbcbb3f70747c44a77c7bcd40155683ae19c65e1c03b4aa3499c5328201f1"
      }
    },
    "colab": {
      "provenance": [],
      "collapsed_sections": []
    }
  },
  "nbformat": 4,
  "nbformat_minor": 0
}