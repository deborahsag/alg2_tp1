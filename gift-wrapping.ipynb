{
 "cells": [
  {
   "cell_type": "markdown",
   "metadata": {},
   "source": [
    "Observação: Esse algoritmo não é bom para o caso de fazer atualizações da envoltória ao adicionar um ponto."
   ]
  },
  {
   "cell_type": "code",
   "execution_count": 1,
   "metadata": {},
   "outputs": [],
   "source": [
    "# encontrar o ponto de menor coordenada y\n",
    "# seja o esse o ponto i0 da envoltoria\n",
    "# i = i0\n",
    "\n",
    "# repita\n",
    "    # para cada um dos pontos j != i\n",
    "    #   computar o angulo polar na direcao anti-horaria a partir de pi (ultimo vertice a entrar na envoltoria)\n",
    "\n",
    "    # seja k o indice do ponto com menor angulo\n",
    "    # o ponto pk entra na envoltoria\n",
    "    # i = k\n",
    "# ate que i == i0\n"
   ]
  },
  {
   "cell_type": "code",
   "execution_count": 3,
   "metadata": {},
   "outputs": [],
   "source": [
    "import numpy"
   ]
  },
  {
   "cell_type": "code",
   "execution_count": 2,
   "metadata": {},
   "outputs": [],
   "source": [
    "def envoltoria_convexa():\n",
    "    \"\"\"Construcao da envoltoria convexa a partir de um conjunto de pontos.\n",
    "\n",
    "    Entrada:\n",
    "    S - um numpy array representando o conjunto de pontos, em que cada ponto é um numpy array [x, y]\n",
    "    Saida:\n",
    "    H - um numpy array contendo os pontos da envoltoria convexa\n",
    "    \"\"\"\n",
    "    return"
   ]
  }
 ],
 "metadata": {
  "kernelspec": {
   "display_name": "Python 3.8.10 64-bit",
   "language": "python",
   "name": "python3"
  },
  "language_info": {
   "codemirror_mode": {
    "name": "ipython",
    "version": 3
   },
   "file_extension": ".py",
   "mimetype": "text/x-python",
   "name": "python",
   "nbconvert_exporter": "python",
   "pygments_lexer": "ipython3",
   "version": "3.8.10"
  },
  "orig_nbformat": 4,
  "vscode": {
   "interpreter": {
    "hash": "916dbcbb3f70747c44a77c7bcd40155683ae19c65e1c03b4aa3499c5328201f1"
   }
  }
 },
 "nbformat": 4,
 "nbformat_minor": 2
}
