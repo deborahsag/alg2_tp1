{
 "cells": [
  {
   "cell_type": "markdown",
   "metadata": {},
   "source": [
    "Trabalho Prático 1 - Geometria computacional\n",
    "\n",
    "Autoras:\n",
    "\n",
    "Deborah Santos Andrade Guimarães - 2014113810\n",
    "\n",
    "Luísa Vasconcelos de Castro Toledo - 2020006795"
   ]
  },
  {
   "cell_type": "markdown",
   "metadata": {},
   "source": [
    "Para aplicar os conhecimentos adquiridos em sala de aula sobre geometria computacional, foi proposto um trabalho em que se usasse os algoritmos de envoltória convexa e de verificação de interseçao de segmentos para o problema de classificação em aprendizado de máquina supervisionado. A seguir, está o relatório com detalhes sobre a escolha e a implementação dos algoritmos usados e os resultados do experimento com a base de dados Iris."
   ]
  },
  {
   "cell_type": "markdown",
   "metadata": {},
   "source": [
    "O algoritmo de envoltória convexa utilizado foi o Gift Wrapping. Tem complexidade O(hn), em que n é o número de pontos no problema e h é o número de pontos na envoltória. Foi escolhido porque, dentre os algoritmos de implementação mais simples, é quadrático apenas no pior caso. [1]\n",
    "\n",
    "Para manipular o dados foi criada uma classe Ponto que guarda as coordenadas x e y de cada ponto. A função que determina a envoltória convexa tem como entrada uma lista de pontos. A saída é uma lista dos pontos que formam a envoltória.\n",
    "\n",
    "As funções implementadas e suas respectivas documentações estão no arquivo envoltoria.py.\n"
   ]
  },
  {
   "cell_type": "code",
   "execution_count": 1,
   "metadata": {},
   "outputs": [],
   "source": [
    "from envoltoria import *"
   ]
  },
  {
   "cell_type": "markdown",
   "metadata": {},
   "source": [
    "2. Implementar o algoritmo de varredura linear para detecção de interseções em conjuntos de segmentos"
   ]
  },
  {
   "cell_type": "markdown",
   "metadata": {},
   "source": [
    "3. Implementar o método para verificação de separabilidade linear conforme descrito acima\n",
    "\n",
    "Para verificar a separabilidade dos dados, o método deverá computar as envoltórias convexas de cada classe (será assumido que os dados possuem apenas dois rótulos para simplificar). Em seguida, deverá ser verificado se há ou não sobreposição dessas classes/envoltórias através do algoritmo de varredura linear para verificação de interseção de segmentos. Caso não haja interseção entre segmentos de envoltórias\n",
    "distintas, então os dados são linearmente separáveis."
   ]
  },
  {
   "cell_type": "markdown",
   "metadata": {},
   "source": [
    "4. Implementar o método para construir o modelo, caso os dados sejam linearmente separáveis"
   ]
  },
  {
   "cell_type": "code",
   "execution_count": null,
   "metadata": {},
   "outputs": [],
   "source": [
    "from modelo import *"
   ]
  },
  {
   "cell_type": "markdown",
   "metadata": {},
   "source": [
    "5. Implementar o classificador que recebe um conjunto de amostras desconhecidas e atribui rótulos a elas"
   ]
  },
  {
   "cell_type": "code",
   "execution_count": null,
   "metadata": {},
   "outputs": [],
   "source": []
  },
  {
   "cell_type": "markdown",
   "metadata": {},
   "source": [
    "6. Implementar o método para computar as métricas de classificação para os experimentos"
   ]
  },
  {
   "cell_type": "markdown",
   "metadata": {},
   "source": [
    "7. Realizar os experimentos conforme a descrição acima\n",
    "8. Redigir o relatório especificado acima"
   ]
  },
  {
   "cell_type": "markdown",
   "metadata": {},
   "source": [
    "Referências:\n",
    "\n",
    "[1] O'Rourke, capítulo 3. Disponível em: https://www.cs.jhu.edu/~misha/Spring16/07.pdf"
   ]
  },
  {
   "cell_type": "markdown",
   "metadata": {},
   "source": []
  }
 ],
 "metadata": {
  "kernelspec": {
   "display_name": "Python 3.8.10 64-bit",
   "language": "python",
   "name": "python3"
  },
  "language_info": {
   "codemirror_mode": {
    "name": "ipython",
    "version": 3
   },
   "file_extension": ".py",
   "mimetype": "text/x-python",
   "name": "python",
   "nbconvert_exporter": "python",
   "pygments_lexer": "ipython3",
   "version": "3.8.10"
  },
  "orig_nbformat": 4,
  "vscode": {
   "interpreter": {
    "hash": "916dbcbb3f70747c44a77c7bcd40155683ae19c65e1c03b4aa3499c5328201f1"
   }
  }
 },
 "nbformat": 4,
 "nbformat_minor": 2
}
