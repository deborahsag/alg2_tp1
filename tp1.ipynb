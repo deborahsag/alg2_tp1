{
 "cells": [
  {
   "cell_type": "markdown",
   "metadata": {},
   "source": [
    "Trabalho Prático 1 - Geometria computacional"
   ]
  },
  {
   "cell_type": "markdown",
   "metadata": {},
   "source": [
    "1. Implementar um algoritmo de envoltória convexa visto em sala de aula\n",
    "\n",
    "Deborah: sugiro o Gift Wrapping por ter complexidade O(nh) e não necessitar de ordenação."
   ]
  },
  {
   "cell_type": "markdown",
   "metadata": {},
   "source": [
    "2. Implementar o algoritmo de varredura linear para detecção de interseções em conjuntos de segmentos"
   ]
  },
  {
   "cell_type": "markdown",
   "metadata": {},
   "source": [
    "3. Implementar o método para verificação de separabilidade linear conforme descrito acima\n",
    "\n",
    "Para verificar a separabilidade dos dados, o método deverá computar as envoltórias convexas de cada classe (será assumido que os dados possuem apenas dois rótulos para simplificar). Em seguida, deverá ser verificado se há ou não sobreposição dessas classes/envoltórias através do algoritmo de varredura linear para verificação de interseção de segmentos. Caso não haja interseção entre segmentos de envoltórias\n",
    "distintas, então os dados são linearmente separáveis."
   ]
  },
  {
   "cell_type": "markdown",
   "metadata": {},
   "source": [
    "4. Implementar o método para construir o modelo, caso os dados sejam linearmente separáveis"
   ]
  },
  {
   "cell_type": "markdown",
   "metadata": {},
   "source": [
    "5. Implementar o classificador que recebe um conjunto de amostras desconhecidas e atribui rótulos a elas"
   ]
  },
  {
   "cell_type": "markdown",
   "metadata": {},
   "source": [
    "6. Implementar o método para computar as métricas de classificação para os experimentos"
   ]
  },
  {
   "cell_type": "markdown",
   "metadata": {},
   "source": [
    "7. Realizar os experimentos conforme a descrição acima\n",
    "8. Redigir o relatório especificado acima"
   ]
  }
 ],
 "metadata": {
  "language_info": {
   "name": "python"
  },
  "orig_nbformat": 4
 },
 "nbformat": 4,
 "nbformat_minor": 2
}
