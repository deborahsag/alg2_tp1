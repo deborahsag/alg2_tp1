{
 "cells": [
  {
   "cell_type": "markdown",
   "metadata": {},
   "source": [
    "# Trabalho Prático 1 - Geometria computacional\n",
    "\n",
    "Autoras:\n",
    "\n",
    "Deborah Santos Andrade Guimarães - Matrícula: 2014113810\n",
    "\n",
    "Luísa Vasconcelos de Castro Toledo - Matrícula: 2020006795"
   ]
  },
  {
   "cell_type": "markdown",
   "metadata": {},
   "source": [
    "Para aplicar os conhecimentos adquiridos em sala de aula sobre geometria computacional, foi proposto um trabalho em que se usasse os algoritmos de envoltória convexa e de verificação de interseçao de segmentos para o problema de classificação em aprendizado de máquina supervisionado. A seguir, está o relatório com detalhes sobre a escolha e a implementação dos algoritmos usados e os resultados do experimento realizado com a base de dados Iris."
   ]
  },
  {
   "cell_type": "markdown",
   "metadata": {},
   "source": [
    "## Envoltória convexa\n",
    "\n",
    "O algoritmo de envoltória convexa utilizado foi o Gift Wrapping. Tem complexidade O(hn), em que n é o número de pontos no problema e h é o número de pontos na envoltória. Foi escolhido porque, dentre os algoritmos de implementação mais simples, é quadrático apenas no pior caso. [1]\n",
    "\n",
    "Para manipular o dados foi criada uma classe Ponto que guarda as coordenadas x e y de cada ponto. A função que determina a envoltória convexa tem como entrada uma lista de pontos. A saída é uma lista dos pontos que formam a envoltória.\n",
    "\n",
    "As funções implementadas e suas respectivas documentações estão no arquivo envoltoria.py.\n"
   ]
  },
  {
   "cell_type": "code",
   "execution_count": 70,
   "metadata": {},
   "outputs": [],
   "source": [
    "from envoltoria import *"
   ]
  },
  {
   "cell_type": "markdown",
   "metadata": {},
   "source": [
    "## Interseção de segmentos\n",
    "\n",
    "Para verificar se há interseção de segmentos, utilizamos o algoritmo da varredura linear.\n",
    "\n",
    "Para manipular os dados, foram criadas duas classes: Segmento e Evento. A classe Segmento guarda dois elementos da classe Ponto, o ponto inicial e o ponto final do segmento. A classe Evento representa um ponto de início ou de fim de um segmento, e guarda um elemento Ponto, uma string identificando o ponto como início ou fim de um segmento e um índice, que indica a qual segmento esse Evento pertence em uma lista de segmentos.\n",
    "\n",
    "As funções implementadas e suas respectivas documentações estão no arquivo varredura.py."
   ]
  },
  {
   "cell_type": "code",
   "execution_count": null,
   "metadata": {},
   "outputs": [],
   "source": [
    "from varredura import*"
   ]
  },
  {
   "cell_type": "markdown",
   "metadata": {},
   "source": [
    "## Separabilidade linear dos dados\n",
    "\n",
    "** O que tá escrito na descrição do tp:\n",
    "3. Implementar o método para verificação de separabilidade linear conforme descrito acima\n",
    "\n",
    "Para verificar a separabilidade dos dados, o método deverá computar as envoltórias convexas de cada classe (será assumido que os dados possuem apenas dois rótulos para simplificar). Em seguida, deverá ser verificado se há ou não sobreposição dessas classes/envoltórias através do algoritmo de varredura linear para verificação de interseção de segmentos. Caso não haja interseção entre segmentos de envoltórias\n",
    "distintas, então os dados são linearmente separáveis.\n",
    "**\n"
   ]
  },
  {
   "cell_type": "markdown",
   "metadata": {},
   "source": [
    "## Modelo e classificador\n",
    "\n",
    "Primeiramente, encontramos a envoltória convexa dos pontos de cada classe. Em seguida, calcula-se a distância dos pontos entre as envoltórias para encontrar a distância mínima. O modelo do classificador é a reta perpendicular ao ponto médio do segmento que liga os dois pontos encontrados.\n",
    "\n",
    "As funções para calcular o modelo e criar o classificador estão definidas e documentadas no arquivo modelo.py."
   ]
  },
  {
   "cell_type": "code",
   "execution_count": 71,
   "metadata": {},
   "outputs": [],
   "source": [
    "from modelo import *"
   ]
  },
  {
   "cell_type": "markdown",
   "metadata": {},
   "source": [
    "O Iris é um dataset clássico para o estudo de ciência de dados, e por isso vamos utilizá-lo para testar nosso classificador. Como nosso algoritmo aceita apenas duas features e duas classes, precisamos filtrar o dataset.\n",
    "\n",
    "Abaixo, fazemos com que o nosso dataset tenha apenas duas variáveis que descrevem as amostras: o comprimento e a largura da sépala de uma flor, respectivamente. Cada variável é uma coordenada no plano cartesiano.\n",
    "\n",
    "As classes escolhidas são as variações Iris setossa e Iris versicolor. "
   ]
  },
  {
   "cell_type": "code",
   "execution_count": 72,
   "metadata": {},
   "outputs": [
    {
     "name": "stdout",
     "output_type": "stream",
     "text": [
      "Nomes das features:\n",
      "['sepal length (cm)', 'sepal width (cm)', 'petal length (cm)', 'petal width (cm)']\n",
      "Nomes das classes:\n",
      "['setosa' 'versicolor' 'virginica']\n"
     ]
    }
   ],
   "source": [
    "from sklearn.datasets import load_iris\n",
    "\n",
    "iris = load_iris()\n",
    "data_features = iris.data[:100, :2]\n",
    "data_target = iris.target[:100]\n",
    "\n",
    "print(\"Nomes das features:\")\n",
    "print(iris.feature_names)\n",
    "print(\"Nomes das classes:\")\n",
    "print(iris.target_names)"
   ]
  },
  {
   "cell_type": "markdown",
   "metadata": {},
   "source": [
    "A seguir, convertemos as features para a classe Ponto."
   ]
  },
  {
   "cell_type": "code",
   "execution_count": 73,
   "metadata": {},
   "outputs": [],
   "source": [
    "data = lista_pontos(data_features)"
   ]
  },
  {
   "cell_type": "markdown",
   "metadata": {},
   "source": [
    "Para medirmos o desempenho do classificador vamos utilizar a biblioteca Scikit-Learn. Ela fornecerá ferramentas para separar os dados em treino e teste e também as funções de cálculo das métricas de avaliação.\n",
    "\n",
    "Primeiramente, dividiremos o dataset em 70% para treino e 30% para teste."
   ]
  },
  {
   "cell_type": "code",
   "execution_count": 74,
   "metadata": {},
   "outputs": [],
   "source": [
    "from sklearn.model_selection import train_test_split\n",
    "\n",
    "data_train, data_test, target_train, target_test = train_test_split(data, data_target, test_size=0.30)"
   ]
  },
  {
   "cell_type": "markdown",
   "metadata": {},
   "source": [
    "Separamos os pontos das duas classes no conjunto de treino:"
   ]
  },
  {
   "cell_type": "code",
   "execution_count": 75,
   "metadata": {},
   "outputs": [],
   "source": [
    "setosa = []\n",
    "versicolor = []\n",
    "for i in range(len(target_train)):\n",
    "    if target_train[i] == 0:\n",
    "        setosa.append(data_train[i])\n",
    "    else:\n",
    "        versicolor.append(data_train[i])"
   ]
  },
  {
   "cell_type": "markdown",
   "metadata": {},
   "source": [
    "Calculamos a envoltória convexa de cada classe e calculamos o modelo. a e b são o coeficiente angular e linear da reta do modelo, respectivamente."
   ]
  },
  {
   "cell_type": "code",
   "execution_count": 78,
   "metadata": {},
   "outputs": [],
   "source": [
    "env_setosa = envoltoria_convexa(setosa)\n",
    "env_versicolor = envoltoria_convexa(versicolor)\n",
    "a, b = equacao_modelo(env_setosa, env_versicolor)"
   ]
  },
  {
   "cell_type": "markdown",
   "metadata": {},
   "source": [
    "Abaixo, podemos ver que a espécie Iris setosa fica acima da reta do modelo, e portanto é da classe azul, e a Iris versicolor fica abaixo da reta, na classe vermelha. Isso significa que a classe azul corresponde à classe 0 no dataset, e a vermelha corresponde à classe 1."
   ]
  },
  {
   "cell_type": "code",
   "execution_count": 81,
   "metadata": {},
   "outputs": [
    {
     "name": "stdout",
     "output_type": "stream",
     "text": [
      "blue\n",
      "red\n"
     ]
    }
   ],
   "source": [
    "print(classificador(setosa[0], a, b))\n",
    "print(classificador(versicolor[0], a, b))"
   ]
  },
  {
   "cell_type": "markdown",
   "metadata": {},
   "source": [
    "Agora que temos o modelo, podemos alimentar os dados de teste e medir o quanto o classificador acerta."
   ]
  },
  {
   "cell_type": "code",
   "execution_count": 85,
   "metadata": {},
   "outputs": [],
   "source": [
    "classificacao = []\n",
    "for i in range(len(target_test)):\n",
    "    classe = classificador(data_test[i], a, b)\n",
    "    if classe == 'blue':\n",
    "        classificacao.append(0)\n",
    "    else:\n",
    "        classificacao.append(1)"
   ]
  },
  {
   "cell_type": "markdown",
   "metadata": {},
   "source": [
    "Utilizaremos as métricas de precisão, revocação e score F1."
   ]
  },
  {
   "cell_type": "code",
   "execution_count": 86,
   "metadata": {},
   "outputs": [
    {
     "name": "stdout",
     "output_type": "stream",
     "text": [
      "0.95 1.0 0.9743589743589743\n"
     ]
    }
   ],
   "source": [
    "from sklearn.metrics import precision_score, recall_score, f1_score\n",
    "\n",
    "precisao = precision_score(target_test, classificacao)\n",
    "revocacao = recall_score(target_test, classificacao)\n",
    "f1 = f1_score(target_test, classificacao)\n",
    "\n",
    "print(precisao, revocacao, f1)"
   ]
  },
  {
   "cell_type": "markdown",
   "metadata": {},
   "source": [
    "Considerando que para as três métricas o pior valor é 0 e o melhor valor é 1, podemos dizer que o classificador funciona muito bem para esta base de dados."
   ]
  },
  {
   "cell_type": "markdown",
   "metadata": {},
   "source": [
    "Referências:\n",
    "\n",
    "[1] O'Rourke, capítulo 3. Disponível em: https://www.cs.jhu.edu/~misha/Spring16/07.pdf"
   ]
  }
 ],
 "metadata": {
  "kernelspec": {
   "display_name": "Python 3.8.10 64-bit",
   "language": "python",
   "name": "python3"
  },
  "language_info": {
   "codemirror_mode": {
    "name": "ipython",
    "version": 3
   },
   "file_extension": ".py",
   "mimetype": "text/x-python",
   "name": "python",
   "nbconvert_exporter": "python",
   "pygments_lexer": "ipython3",
   "version": "3.8.10"
  },
  "orig_nbformat": 4,
  "vscode": {
   "interpreter": {
    "hash": "916dbcbb3f70747c44a77c7bcd40155683ae19c65e1c03b4aa3499c5328201f1"
   }
  }
 },
 "nbformat": 4,
 "nbformat_minor": 2
}
